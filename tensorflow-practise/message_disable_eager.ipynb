{
 "cells": [
  {
   "cell_type": "code",
   "execution_count": 1,
   "id": "bc0af8e8-59c8-49f8-a76b-2326d718124f",
   "metadata": {},
   "outputs": [],
   "source": [
    "import tensorflow as tf\n",
    "\n",
    "tf = tf.compat.v1\n",
    "tf.disable_eager_execution()"
   ]
  },
  {
   "cell_type": "code",
   "execution_count": 2,
   "id": "a693c93a-2021-4bc8-b698-353ad47ded7f",
   "metadata": {},
   "outputs": [
    {
     "data": {
      "text/plain": [
       "<tf.Tensor 'Const:0' shape=() dtype=string>"
      ]
     },
     "execution_count": 2,
     "metadata": {},
     "output_type": "execute_result"
    }
   ],
   "source": [
    "dict_value = {\"key1\": \"value1\",\"key2\": \"value2\"}\n",
    "dict_string = str(dict_value)\n",
    "tensor_data = tf.constant(dict_string)\n",
    "tensor_data"
   ]
  },
  {
   "cell_type": "code",
   "execution_count": 5,
   "id": "8a9b6441-7cca-4eb3-b1da-f5ab1bf5af5b",
   "metadata": {},
   "outputs": [],
   "source": [
    "# 关闭了 eager execution，则使用 session + eval 的方式获取数据"
   ]
  },
  {
   "cell_type": "code",
   "execution_count": 3,
   "id": "22168b36-8ef2-41a8-8f38-bf33242c61d7",
   "metadata": {},
   "outputs": [
    {
     "data": {
      "text/plain": [
       "\"{'key1': 'value1', 'key2': 'value2'}\""
      ]
     },
     "execution_count": 3,
     "metadata": {},
     "output_type": "execute_result"
    }
   ],
   "source": [
    "with tf.Session() as sess:\n",
    "    str_item = tensor_data.eval(session=sess).decode('utf-8')\n",
    "str_item "
   ]
  },
  {
   "cell_type": "code",
   "execution_count": 4,
   "id": "17d80920-6578-4a8a-913c-13b24655e858",
   "metadata": {},
   "outputs": [
    {
     "data": {
      "text/plain": [
       "str"
      ]
     },
     "execution_count": 4,
     "metadata": {},
     "output_type": "execute_result"
    }
   ],
   "source": [
    "type(str_item)"
   ]
  },
  {
   "cell_type": "code",
   "execution_count": null,
   "id": "c69d4516-0670-48fe-899f-a9f63caf723b",
   "metadata": {},
   "outputs": [],
   "source": []
  }
 ],
 "metadata": {
  "kernelspec": {
   "display_name": "tf2.3",
   "language": "python",
   "name": "tf2.3"
  },
  "language_info": {
   "codemirror_mode": {
    "name": "ipython",
    "version": 3
   },
   "file_extension": ".py",
   "mimetype": "text/x-python",
   "name": "python",
   "nbconvert_exporter": "python",
   "pygments_lexer": "ipython3",
   "version": "3.6.13"
  }
 },
 "nbformat": 4,
 "nbformat_minor": 5
}
