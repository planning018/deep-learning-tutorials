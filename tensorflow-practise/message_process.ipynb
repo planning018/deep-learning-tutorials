{
 "cells": [
  {
   "cell_type": "markdown",
   "id": "d9c3e5f1-b9ec-468a-81dd-4d416aa0b7df",
   "metadata": {},
   "source": [
    "## 使用 TF1.x 默认了开启 Eager execution"
   ]
  },
  {
   "cell_type": "code",
   "execution_count": 1,
   "id": "25a4cab1-9246-4402-aead-4715785f02b7",
   "metadata": {},
   "outputs": [],
   "source": [
    "import tensorflow as tf\n",
    "\n",
    "tf = tf.compat.v1"
   ]
  },
  {
   "cell_type": "code",
   "execution_count": 2,
   "id": "1439bb61-ea9c-472f-b1fe-5a35cdb078f5",
   "metadata": {},
   "outputs": [
    {
     "data": {
      "text/plain": [
       "'value1,value2'"
      ]
     },
     "execution_count": 2,
     "metadata": {},
     "output_type": "execute_result"
    }
   ],
   "source": [
    "data_dict = {'key1': 'value1', 'key2': 'value2'}\n",
    "target_values = ','.join(str(dict_val) for dict_val in data_dict.values())\n",
    "target_values"
   ]
  },
  {
   "cell_type": "code",
   "execution_count": 3,
   "id": "d555c9d5-e00b-4e04-af2d-befddb8b25b2",
   "metadata": {},
   "outputs": [
    {
     "data": {
      "text/plain": [
       "<tf.Tensor: shape=(), dtype=string, numpy=b'value1,value2'>"
      ]
     },
     "execution_count": 3,
     "metadata": {},
     "output_type": "execute_result"
    }
   ],
   "source": [
    "tensor = tf.convert_to_tensor(target_values)\n",
    "tensor"
   ]
  },
  {
   "cell_type": "code",
   "execution_count": null,
   "id": "458576fc-1ab9-478a-87a9-051bb642eedb",
   "metadata": {},
   "outputs": [],
   "source": []
  },
  {
   "cell_type": "code",
   "execution_count": 4,
   "id": "d1c9640c-d9d4-432d-b289-118ee76b09e5",
   "metadata": {},
   "outputs": [
    {
     "data": {
      "text/plain": [
       "<tf.Tensor: shape=(), dtype=string, numpy=b\"{'key1': 'value1', 'key2': 'value2'}\">"
      ]
     },
     "execution_count": 4,
     "metadata": {},
     "output_type": "execute_result"
    }
   ],
   "source": [
    "dict_value = {\"key1\": \"value1\",\"key2\": \"value2\"}\n",
    "dict_string = str(dict_value)\n",
    "tensor_data = tf.constant(dict_string)\n",
    "tensor_data"
   ]
  },
  {
   "cell_type": "code",
   "execution_count": 13,
   "id": "b3168fc7-e694-42ca-951c-6fef703f2671",
   "metadata": {},
   "outputs": [],
   "source": [
    "# 如果关闭了 Eager execution，则不能使用 numpy() 方法获取数据"
   ]
  },
  {
   "cell_type": "code",
   "execution_count": 5,
   "id": "446846ac-993e-4291-af85-50e29c8e425c",
   "metadata": {},
   "outputs": [
    {
     "data": {
      "text/plain": [
       "\"{'key1': 'value1', 'key2': 'value2'}\""
      ]
     },
     "execution_count": 5,
     "metadata": {},
     "output_type": "execute_result"
    }
   ],
   "source": [
    "# mock message 到了 tensor 的状态，现在开始解析\n",
    "invalid_dict = tensor_data.numpy().decode('utf-8')\n",
    "invalid_dict"
   ]
  },
  {
   "cell_type": "code",
   "execution_count": 6,
   "id": "15d5d52a-1afb-4c38-b90b-8f2e713aa261",
   "metadata": {},
   "outputs": [
    {
     "data": {
      "text/plain": [
       "'{\"key1\": \"value1\", \"key2\": \"value2\"}'"
      ]
     },
     "execution_count": 6,
     "metadata": {},
     "output_type": "execute_result"
    }
   ],
   "source": [
    "vaid_dict = invalid_dict.replace(\"'\", '\"')\n",
    "vaid_dict"
   ]
  },
  {
   "cell_type": "code",
   "execution_count": 7,
   "id": "ecfba53b-0742-4f32-8f0b-5aa7fd804c15",
   "metadata": {},
   "outputs": [],
   "source": [
    "# tensor 转为 dict 修改内容，然后再恢复成 value tensor"
   ]
  },
  {
   "cell_type": "code",
   "execution_count": 8,
   "id": "d431a58e-aaf5-45af-8d63-60e518728050",
   "metadata": {},
   "outputs": [
    {
     "data": {
      "text/plain": [
       "dict_values(['value1', 'value2'])"
      ]
     },
     "execution_count": 8,
     "metadata": {},
     "output_type": "execute_result"
    }
   ],
   "source": [
    "import json\n",
    "\n",
    "dict_msg = json.loads(vaid_dict).values()\n",
    "dict_msg"
   ]
  },
  {
   "cell_type": "code",
   "execution_count": 9,
   "id": "248057c7-810c-4c7c-9ddc-bf5f7a59f70c",
   "metadata": {},
   "outputs": [
    {
     "data": {
      "text/plain": [
       "'value1,value2'"
      ]
     },
     "execution_count": 9,
     "metadata": {},
     "output_type": "execute_result"
    }
   ],
   "source": [
    "target_val = ','.join(str(temp) for temp in dict_msg)\n",
    "target_val"
   ]
  },
  {
   "cell_type": "code",
   "execution_count": 10,
   "id": "3fcc3f47-732d-4d29-aec9-ecbc76dfd2d5",
   "metadata": {},
   "outputs": [
    {
     "data": {
      "text/plain": [
       "'value1,value2,value3'"
      ]
     },
     "execution_count": 10,
     "metadata": {},
     "output_type": "execute_result"
    }
   ],
   "source": [
    "# 修改内容\n",
    "target_val = target_val + ',value3'\n",
    "target_val"
   ]
  },
  {
   "cell_type": "code",
   "execution_count": 11,
   "id": "244edd03-3177-4cc3-a61d-88d3b30c793c",
   "metadata": {},
   "outputs": [
    {
     "data": {
      "text/plain": [
       "<tf.Tensor: shape=(), dtype=string, numpy=b'value1,value2,value3'>"
      ]
     },
     "execution_count": 11,
     "metadata": {},
     "output_type": "execute_result"
    }
   ],
   "source": [
    "# 重新转为 tensor\n",
    "tf.convert_to_tensor(target_val)"
   ]
  }
 ],
 "metadata": {
  "kernelspec": {
   "display_name": "tf2.3",
   "language": "python",
   "name": "tf2.3"
  },
  "language_info": {
   "codemirror_mode": {
    "name": "ipython",
    "version": 3
   },
   "file_extension": ".py",
   "mimetype": "text/x-python",
   "name": "python",
   "nbconvert_exporter": "python",
   "pygments_lexer": "ipython3",
   "version": "3.6.13"
  }
 },
 "nbformat": 4,
 "nbformat_minor": 5
}
